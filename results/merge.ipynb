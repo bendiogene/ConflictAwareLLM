{
 "cells": [
  {
   "cell_type": "code",
   "execution_count": 6,
   "metadata": {},
   "outputs": [],
   "source": [
    "import json\n",
    "with open('../results/experiment_3_1/experiment_3_1_2000_1000_f0.json', 'r') as file:\n",
    "    data1=json.load(file)\n",
    "\n",
    "with open('../results/experiment_3_1/experiment_3_1_2000_1000_f12.json', 'r') as file:\n",
    "    data2=json.load(file)\n",
    "\n",
    "with open('../results/experiment_3_1/experiment_3_1_2000_1000_f34.json', 'r') as file:\n",
    "    data3=json.load(file)\n",
    "\n",
    "data1['results'].keys()\n",
    "\n",
    "for k in data2['results'].keys():\n",
    "    data1['results'][k] = data2['results'][k]\n",
    "\n",
    "for k in data3['results'].keys():\n",
    "    data1['results'][k] = data3['results'][k]\n",
    "\n",
    "with open('../results/experiment_3_1/experiment_3_1_2000_1000.json', 'w') as json_file:\n",
    "                json.dump(data1, json_file, indent=4)"
   ]
  }
 ],
 "metadata": {
  "kernelspec": {
   "display_name": "elias",
   "language": "python",
   "name": "python3"
  },
  "language_info": {
   "codemirror_mode": {
    "name": "ipython",
    "version": 3
   },
   "file_extension": ".py",
   "mimetype": "text/x-python",
   "name": "python",
   "nbconvert_exporter": "python",
   "pygments_lexer": "ipython3",
   "version": "3.7.13"
  }
 },
 "nbformat": 4,
 "nbformat_minor": 2
}
