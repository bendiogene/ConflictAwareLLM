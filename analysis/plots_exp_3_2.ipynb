{
 "cells": [
  {
   "cell_type": "markdown",
   "metadata": {},
   "source": [
    "## ANALYSIS EXPERIMENT 3.2 (GPT2-SMALL)"
   ]
  },
  {
   "cell_type": "code",
   "execution_count": 1,
   "metadata": {},
   "outputs": [
    {
     "name": "stdout",
     "output_type": "stream",
     "text": [
      "[2024-07-15 08:33:12,772] [INFO] [real_accelerator.py:203:get_accelerator] Setting ds_accelerator to cuda (auto detect)\n",
      "\u001b[93m [WARNING] \u001b[0m async_io requires the dev libaio .so object and headers but these were not found.\n",
      "\u001b[93m [WARNING] \u001b[0m If libaio is already installed (perhaps from source), try setting the CFLAGS and LDFLAGS environment variables to where it can be found.\n",
      "\u001b[93m [WARNING] \u001b[0m Please specify the CUTLASS repo directory as environment variable $CUTLASS_PATH\n"
     ]
    },
    {
     "name": "stderr",
     "output_type": "stream",
     "text": [
      "/opt/anaconda/anaconda3/envs/elias/compiler_compat/ld: /tmp/tmpsqwjamvf/test.o: in function `main':\n",
      "/tmp/tmpsqwjamvf/test.c:1: undefined reference to `io_pgetevents'\n",
      "collect2: error: ld returned 1 exit status\n"
     ]
    },
    {
     "name": "stdout",
     "output_type": "stream",
     "text": [
      "\u001b[93m [WARNING] \u001b[0m NVIDIA Inference is only supported on Ampere and newer architectures\n",
      "\u001b[93m [WARNING] \u001b[0m please install triton==1.0.0 if you want to use sparse attention\n"
     ]
    }
   ],
   "source": [
    "import numpy as np\n",
    "import matplotlib.pyplot as plt\n",
    "import json\n",
    "import pickle\n",
    "import importlib\n",
    "import os\n",
    "\n",
    "\n",
    "import sys\n",
    "# custom path insertion\n",
    "sys.path.append(os.path.abspath('..'))\n",
    "\n",
    "import utils \n",
    "importlib.reload(utils)\n",
    "\n",
    "from utils import *\n"
   ]
  },
  {
   "cell_type": "markdown",
   "metadata": {},
   "source": [
    "### Experiment 3.2"
   ]
  },
  {
   "cell_type": "code",
   "execution_count": 2,
   "metadata": {},
   "outputs": [
    {
     "name": "stdout",
     "output_type": "stream",
     "text": [
      "Accuracy FT NOT-B (spec) -> A:0.13524 - NOT(B):0.97852\n",
      "Accuracy C-FT NOT-B (spec) -> A:0.2958 - NOT(B):0.94544\n",
      "Accuracy C-FT NOT-B (rnd) -> A:0.2934 - NOT(B):0.7654799999999999\n"
     ]
    }
   ],
   "source": [
    "\n",
    "with open('../results/experiment_3_2/experiment_3_2_1000_1000.json', 'r') as file: \n",
    "    data = json.load(file)\n",
    "\n",
    "results = data['results']\n",
    "\n",
    "ftb_acc_A = 0\n",
    "ftb_acc_B = 0\n",
    "cftb_spec_acc_A = 0\n",
    "cftb_spec_acc_B = 0\n",
    "cftb_rnd_acc_A = 0\n",
    "cftb_rnd_acc_B = 0\n",
    "\n",
    "for f in results:\n",
    "    \n",
    "    ftb_acc_A += results[f]['ft-notb']['avg_accA']\n",
    "    ftb_acc_B += results[f]['ft-notb']['avg_accB']\n",
    "    cftb_spec_acc_A += results[f]['cft-notb']['inters']['avg_accA']\n",
    "    cftb_spec_acc_B += results[f]['cft-notb']['inters']['avg_accB']\n",
    "    cftb_rnd_acc_A += results[f]['cft-notb']['rnd']['avg_accA']\n",
    "    cftb_rnd_acc_B += results[f]['cft-notb']['rnd']['avg_accB']\n",
    "\n",
    "ftb_acc_A = ftb_acc_A/len(results)\n",
    "ftb_acc_B = ftb_acc_B/len(results)\n",
    "cftb_spec_acc_A = cftb_spec_acc_A/len(results)\n",
    "cftb_spec_acc_B = cftb_spec_acc_B/len(results)\n",
    "cftb_rnd_acc_A = cftb_rnd_acc_A/len(results)\n",
    "cftb_rnd_acc_B = cftb_rnd_acc_B/len(results)\n",
    "\n",
    "\n",
    "print(f\"Accuracy FT NOT-B (spec) -> A:{ftb_acc_A} - NOT(B):{ftb_acc_B}\")\n",
    "print(f\"Accuracy C-FT NOT-B (spec) -> A:{cftb_spec_acc_A} - NOT(B):{cftb_spec_acc_B}\")\n",
    "print(f\"Accuracy C-FT NOT-B (rnd) -> A:{cftb_rnd_acc_A} - NOT(B):{cftb_rnd_acc_B}\")\n",
    "\n"
   ]
  }
 ],
 "metadata": {
  "kernelspec": {
   "display_name": "elias",
   "language": "python",
   "name": "python3"
  },
  "language_info": {
   "codemirror_mode": {
    "name": "ipython",
    "version": 3
   },
   "file_extension": ".py",
   "mimetype": "text/x-python",
   "name": "python",
   "nbconvert_exporter": "python",
   "pygments_lexer": "ipython3",
   "version": "3.7.13"
  }
 },
 "nbformat": 4,
 "nbformat_minor": 2
}
